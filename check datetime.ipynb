import csv
import datetime
import os
import numpy as np
from dateutil import parser
from datetime import datetime


#check input date
while True:
    try:
        date = parser.parse(input("Enter date: "))  #input date
        break
        
    except  ValueError:
             print("the date is not good") #A message for the client
             continue

d = (date.day)
m = (date.month)
y = (date.year)
print(date)

if 1990 <= y <= 2023 and 0 < m < 13 and 0 < d < 32: #Check whether date is under limit.== num_d_m_y

    if y % 4 == 0: # Every 4 year "Leap" year occures so checking...== d_f
        if m == 2: # In "Leap" year February has 29 days == d_f
            if d < 30:
                print("<Correct>")
            else:
                print("<Wrong-d_f>")

    elif m == 2: # But if it's not "Leap" year February will have 28 days ==  d_fx4y
        if d < 29:
            print("<Correct>")
        else:
            print("<Wrong-d_fx4y>")
    elif y % 4 != 0 and m != 2: # Otherwise print "Correct"
        print("<Correct>")

else:
    print("<Wrong-num_d_m_y>")
  
