{
 "cells": [
  {
   "cell_type": "code",
   "execution_count": 493,
   "id": "2cc95d73-1e99-467b-aba6-d23190e402f2",
   "metadata": {},
   "outputs": [
    {
     "name": "stdin",
     "output_type": "stream",
     "text": [
      "Enter date:  01.01.2023\n"
     ]
    },
    {
     "name": "stdout",
     "output_type": "stream",
     "text": [
      "<Correct>\n"
     ]
    }
   ],
   "source": [
    "import csv\n",
    "import datetime\n",
    "import os\n",
    "import numpy as np\n",
    "from dateutil import parser\n",
    "from datetime import datetime\n",
    "\n",
    "\n",
    "#check input date\n",
    "while True:\n",
    "    try:\n",
    "        date = parser.parse(input(\"Enter date: \"))  #input date\n",
    "        break \n",
    "    except  ValueError:\n",
    "            print(\"Oops!  That was no true date.  Try again...\") #A message for the client\n",
    "\n",
    "\n",
    "d = (date.day)\n",
    "m = (date.month)\n",
    "y = (date.year)\n",
    "\n",
    "\n",
    "if 1990 <= y <= 2023 and 0 < m < 13 and 0 < d < 32: #Check whether date is under limit.== num_d_m_y\n",
    "\n",
    "    if y % 4 == 0: # Every 4 year \"Leap\" year occures so checking...== d_f\n",
    "        if m == 2: # In \"Leap\" year February has 29 days == d_f\n",
    "            if d < 30:\n",
    "                print(\"<Correct-d_f>\")\n",
    "            else:\n",
    "                print(\"<Wrong-d_f>\")\n",
    "\n",
    "    elif m == 2: # But if it's not \"Leap\" year February will have 28 days ==  d_fx4y\n",
    "        if d < 29:\n",
    "            print(\"<Correct-d_fx4y>\")\n",
    "        else:\n",
    "            print(\"<Wrong-d_fx4y>\")\n",
    "    elif y % 4 != 0 and m != 2: # Otherwise print \"Correct\"\n",
    "        print(\"<Correct>\")\n",
    "\n",
    "else:\n",
    "    print(\"<Wrong-num_d_m_y>\")"
   ]
  },
  {
   "cell_type": "code",
   "execution_count": null,
   "id": "cf314d33-1529-4fb3-bd22-ce7c9c37ae8d",
   "metadata": {},
   "outputs": [],
   "source": []
  }
 ],
 "metadata": {
  "kernelspec": {
   "display_name": "Python 3 (ipykernel)",
   "language": "python",
   "name": "python3"
  },
  "language_info": {
   "codemirror_mode": {
    "name": "ipython",
    "version": 3
   },
   "file_extension": ".py",
   "mimetype": "text/x-python",
   "name": "python",
   "nbconvert_exporter": "python",
   "pygments_lexer": "ipython3",
   "version": "3.9.2"
  }
 },
 "nbformat": 4,
 "nbformat_minor": 5
}
